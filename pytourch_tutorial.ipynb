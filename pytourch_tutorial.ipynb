{
 "cells": [
  {
   "cell_type": "markdown",
   "metadata": {},
   "source": [
    "# Pytourch"
   ]
  },
  {
   "cell_type": "code",
   "execution_count": 3,
   "metadata": {},
   "outputs": [],
   "source": [
    "import torchtext\n",
    "from torchtext import data\n",
    "from torchtext import datasets\n",
    "from torchtext.vocab import FastText\n",
    "\n",
    "import torch.nn as nn\n",
    "import torch.optim as optim\n",
    "import torch.nn.functional as F\n",
    "import torch\n",
    "from torch.autograd import Variable\n",
    "\n",
    "torch.manual_seed(0)\n",
    "torch.cuda.manual_seed(0)"
   ]
  },
  {
   "cell_type": "markdown",
   "metadata": {},
   "source": [
    "# Tokenizer"
   ]
  },
  {
   "cell_type": "code",
   "execution_count": 30,
   "metadata": {},
   "outputs": [],
   "source": [
    "def mytokenizer(sentence):\n",
    "    import janome\n",
    "    from janome.tokenizer import Tokenizer\n",
    "    j_tokenizer = Tokenizer()\n",
    "    token_list = []\n",
    "    for t in j_tokenizer.tokenize(sentence, wakati=True):\n",
    "        token_list.append(t)\n",
    "    return token_list"
   ]
  },
  {
   "cell_type": "code",
   "execution_count": 32,
   "metadata": {},
   "outputs": [
    {
     "data": {
      "text/plain": [
       "['私',\n",
       " 'は',\n",
       " '今',\n",
       " '、',\n",
       " 'インド',\n",
       " 'で',\n",
       " '機械',\n",
       " '学習',\n",
       " 'を',\n",
       " '勉強',\n",
       " 'し',\n",
       " 'て',\n",
       " 'い',\n",
       " 'ます',\n",
       " '。']"
      ]
     },
     "execution_count": 32,
     "metadata": {},
     "output_type": "execute_result"
    }
   ],
   "source": [
    "sentence = \"私は今、インドで機械学習を勉強しています。\"\n",
    "mytokenizer(sentence)"
   ]
  },
  {
   "cell_type": "code",
   "execution_count": 34,
   "metadata": {},
   "outputs": [],
   "source": [
    "import torchtext\n",
    "from torchtext import data\n",
    "text = data.Field(sequential=True, tokenize=tokenizer, lower=True, include_lengths=True, batch_first=True)\n",
    "#label = data.Field(sequential=False, use_vocab=False)"
   ]
  },
  {
   "cell_type": "code",
   "execution_count": 35,
   "metadata": {},
   "outputs": [],
   "source": [
    "def doc2sentence(document):\n",
    "    sentences = document.split(\"。\")\n",
    "    return sentences\n",
    "\n",
    "def tokenizer(sentences):\n",
    "    import janome\n",
    "    from janome.tokenizer import Tokenizer\n",
    "    j_tokenizer = Tokenizer()\n",
    "    token_list = []\n",
    "    for sentence in sentences:\n",
    "        for t in j_tokenizer.tokenize(sentence, wakati=True):\n",
    "            token_list.append(t)\n",
    "    return token_list"
   ]
  },
  {
   "cell_type": "code",
   "execution_count": 39,
   "metadata": {},
   "outputs": [],
   "source": [
    "document = \"メディアアーティストや大学の研究者として活躍しながら、2015年に会社を立ち上げ、CEOに就任。落合陽一氏は、テクノロジーベンチャーの「経営者」として、何を目指すのか。先進テクノロジーの事業化や成長戦略、今後のビジョンについて話を聞いた。\""
   ]
  },
  {
   "cell_type": "code",
   "execution_count": 42,
   "metadata": {},
   "outputs": [
    {
     "data": {
      "text/plain": [
       "['メディアアーティストや大学の研究者として活躍しながら、2015年に会社を立ち上げ、CEOに就任',\n",
       " '落合陽一氏は、テクノロジーベンチャーの「経営者」として、何を目指すのか',\n",
       " '先進テクノロジーの事業化や成長戦略、今後のビジョンについて話を聞いた',\n",
       " '']"
      ]
     },
     "execution_count": 42,
     "metadata": {},
     "output_type": "execute_result"
    }
   ],
   "source": [
    "doc2sentence(document)"
   ]
  },
  {
   "cell_type": "code",
   "execution_count": 43,
   "metadata": {},
   "outputs": [
    {
     "data": {
      "text/plain": [
       "['メディア',\n",
       " 'アーティスト',\n",
       " 'や',\n",
       " '大学',\n",
       " 'の',\n",
       " '研究',\n",
       " '者',\n",
       " 'として',\n",
       " '活躍',\n",
       " 'し',\n",
       " 'ながら',\n",
       " '、',\n",
       " '2015',\n",
       " '年',\n",
       " 'に',\n",
       " '会社',\n",
       " 'を',\n",
       " '立ち',\n",
       " '上げ',\n",
       " '、',\n",
       " 'CEO',\n",
       " 'に',\n",
       " '就任',\n",
       " '落合',\n",
       " '陽一',\n",
       " '氏',\n",
       " 'は',\n",
       " '、',\n",
       " 'テクノロジー',\n",
       " 'ベンチャー',\n",
       " 'の',\n",
       " '「',\n",
       " '経営',\n",
       " '者',\n",
       " '」',\n",
       " 'として',\n",
       " '、',\n",
       " '何',\n",
       " 'を',\n",
       " '目指す',\n",
       " 'の',\n",
       " 'か',\n",
       " '先進',\n",
       " 'テクノロジー',\n",
       " 'の',\n",
       " '事業',\n",
       " '化',\n",
       " 'や',\n",
       " '成長',\n",
       " '戦略',\n",
       " '、',\n",
       " '今後',\n",
       " 'の',\n",
       " 'ビジョン',\n",
       " 'について',\n",
       " '話',\n",
       " 'を',\n",
       " '聞い',\n",
       " 'た']"
      ]
     },
     "execution_count": 43,
     "metadata": {},
     "output_type": "execute_result"
    }
   ],
   "source": [
    "sentences = doc2sentence(document)\n",
    "tokenizer(sentences)"
   ]
  },
  {
   "cell_type": "code",
   "execution_count": null,
   "metadata": {},
   "outputs": [],
   "source": []
  }
 ],
 "metadata": {
  "kernelspec": {
   "display_name": "Python 3",
   "language": "python",
   "name": "python3"
  },
  "language_info": {
   "codemirror_mode": {
    "name": "ipython",
    "version": 3
   },
   "file_extension": ".py",
   "mimetype": "text/x-python",
   "name": "python",
   "nbconvert_exporter": "python",
   "pygments_lexer": "ipython3",
   "version": "3.5.1"
  }
 },
 "nbformat": 4,
 "nbformat_minor": 2
}
